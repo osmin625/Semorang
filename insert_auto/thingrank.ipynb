{
 "cells": [
  {
   "cell_type": "code",
   "execution_count": 53,
   "metadata": {},
   "outputs": [
    {
     "ename": "ProgrammingError",
     "evalue": "Oracle Client library has already been initialized",
     "output_type": "error",
     "traceback": [
      "\u001b[1;31m---------------------------------------------------------------------------\u001b[0m",
      "\u001b[1;31mProgrammingError\u001b[0m                          Traceback (most recent call last)",
      "\u001b[1;32mc:\\Users\\ys050\\Dropbox\\내 PC (LAPTOP-60DNJ58Q)\\Desktop\\문서\\대학생활\\2022-2 강의\\데이터베이스 - 서영균\\프로젝트\\Semorang\\insert_auto\\thingrank.ipynb 셀 1\u001b[0m in \u001b[0;36m<cell line: 4>\u001b[1;34m()\u001b[0m\n\u001b[0;32m      <a href='vscode-notebook-cell:/c%3A/Users/ys050/Dropbox/%EB%82%B4%20PC%20%28LAPTOP-60DNJ58Q%29/Desktop/%EB%AC%B8%EC%84%9C/%EB%8C%80%ED%95%99%EC%83%9D%ED%99%9C/2022-2%20%EA%B0%95%EC%9D%98/%EB%8D%B0%EC%9D%B4%ED%84%B0%EB%B2%A0%EC%9D%B4%EC%8A%A4%20-%20%EC%84%9C%EC%98%81%EA%B7%A0/%ED%94%84%EB%A1%9C%EC%A0%9D%ED%8A%B8/Semorang/insert_auto/thingrank.ipynb#W0sZmlsZQ%3D%3D?line=1'>2</a>\u001b[0m \u001b[39mimport\u001b[39;00m \u001b[39mcx_Oracle\u001b[39;00m\n\u001b[0;32m      <a href='vscode-notebook-cell:/c%3A/Users/ys050/Dropbox/%EB%82%B4%20PC%20%28LAPTOP-60DNJ58Q%29/Desktop/%EB%AC%B8%EC%84%9C/%EB%8C%80%ED%95%99%EC%83%9D%ED%99%9C/2022-2%20%EA%B0%95%EC%9D%98/%EB%8D%B0%EC%9D%B4%ED%84%B0%EB%B2%A0%EC%9D%B4%EC%8A%A4%20-%20%EC%84%9C%EC%98%81%EA%B7%A0/%ED%94%84%EB%A1%9C%EC%A0%9D%ED%8A%B8/Semorang/insert_auto/thingrank.ipynb#W0sZmlsZQ%3D%3D?line=2'>3</a>\u001b[0m \u001b[39mimport\u001b[39;00m \u001b[39mdatetime\u001b[39;00m \n\u001b[1;32m----> <a href='vscode-notebook-cell:/c%3A/Users/ys050/Dropbox/%EB%82%B4%20PC%20%28LAPTOP-60DNJ58Q%29/Desktop/%EB%AC%B8%EC%84%9C/%EB%8C%80%ED%95%99%EC%83%9D%ED%99%9C/2022-2%20%EA%B0%95%EC%9D%98/%EB%8D%B0%EC%9D%B4%ED%84%B0%EB%B2%A0%EC%9D%B4%EC%8A%A4%20-%20%EC%84%9C%EC%98%81%EA%B7%A0/%ED%94%84%EB%A1%9C%EC%A0%9D%ED%8A%B8/Semorang/insert_auto/thingrank.ipynb#W0sZmlsZQ%3D%3D?line=3'>4</a>\u001b[0m cx_Oracle\u001b[39m.\u001b[39;49minit_oracle_client(lib_dir\u001b[39m=\u001b[39;49m\u001b[39mr\u001b[39;49m\u001b[39m\"\u001b[39;49m\u001b[39mC:\u001b[39;49m\u001b[39m\\\u001b[39;49m\u001b[39mOracleDBproject\u001b[39;49m\u001b[39m\\\u001b[39;49m\u001b[39minstantclient_21_7\u001b[39;49m\u001b[39m\"\u001b[39;49m)  \u001b[39m# 여기서 각자 라이브러리 위치 설정해줘야함\u001b[39;00m\n\u001b[0;32m      <a href='vscode-notebook-cell:/c%3A/Users/ys050/Dropbox/%EB%82%B4%20PC%20%28LAPTOP-60DNJ58Q%29/Desktop/%EB%AC%B8%EC%84%9C/%EB%8C%80%ED%95%99%EC%83%9D%ED%99%9C/2022-2%20%EA%B0%95%EC%9D%98/%EB%8D%B0%EC%9D%B4%ED%84%B0%EB%B2%A0%EC%9D%B4%EC%8A%A4%20-%20%EC%84%9C%EC%98%81%EA%B7%A0/%ED%94%84%EB%A1%9C%EC%A0%9D%ED%8A%B8/Semorang/insert_auto/thingrank.ipynb#W0sZmlsZQ%3D%3D?line=4'>5</a>\u001b[0m connection \u001b[39m=\u001b[39m cx_Oracle\u001b[39m.\u001b[39mconnect(user\u001b[39m=\u001b[39m\u001b[39m'\u001b[39m\u001b[39madmin\u001b[39m\u001b[39m'\u001b[39m, password\u001b[39m=\u001b[39m\u001b[39m'\u001b[39m\u001b[39mSemorang1234\u001b[39m\u001b[39m'\u001b[39m, dsn\u001b[39m=\u001b[39m\u001b[39m'\u001b[39m\u001b[39msemodb_high\u001b[39m\u001b[39m'\u001b[39m)\n\u001b[0;32m      <a href='vscode-notebook-cell:/c%3A/Users/ys050/Dropbox/%EB%82%B4%20PC%20%28LAPTOP-60DNJ58Q%29/Desktop/%EB%AC%B8%EC%84%9C/%EB%8C%80%ED%95%99%EC%83%9D%ED%99%9C/2022-2%20%EA%B0%95%EC%9D%98/%EB%8D%B0%EC%9D%B4%ED%84%B0%EB%B2%A0%EC%9D%B4%EC%8A%A4%20-%20%EC%84%9C%EC%98%81%EA%B7%A0/%ED%94%84%EB%A1%9C%EC%A0%9D%ED%8A%B8/Semorang/insert_auto/thingrank.ipynb#W0sZmlsZQ%3D%3D?line=5'>6</a>\u001b[0m \u001b[39m# 본인이 접속할 오라클 클라우드 DB 사용자이름, 비밀번호, dsn을 넣어준다.\u001b[39;00m\n",
      "\u001b[1;31mProgrammingError\u001b[0m: Oracle Client library has already been initialized"
     ]
    }
   ],
   "source": [
    "import random\n",
    "import cx_Oracle\n",
    "import datetime \n",
    "cx_Oracle.init_oracle_client(lib_dir=r\"C:\\OracleDBproject\\instantclient_21_7\")  # 여기서 각자 라이브러리 위치 설정해줘야함\n",
    "connection = cx_Oracle.connect(user='admin', password='Semorang1234', dsn='semodb_high')\n",
    "# 본인이 접속할 오라클 클라우드 DB 사용자이름, 비밀번호, dsn을 넣어준다.\n",
    "print(connection)"
   ]
  },
  {
   "cell_type": "code",
   "execution_count": 7,
   "metadata": {},
   "outputs": [
    {
     "data": {
      "text/plain": [
       "20071423"
      ]
     },
     "execution_count": 7,
     "metadata": {},
     "output_type": "execute_result"
    }
   ],
   "source": [
    "# 전체 thing들 가져오기\n",
    "cursor = connection.cursor()\n",
    "cursor.execute(\"select T.THING_ID from THING T\")\n",
    "thing_rows = cursor.fetchall()\n",
    "total_thing_list = [i[0] for i in thing_rows]"
   ]
  },
  {
   "cell_type": "code",
   "execution_count": 31,
   "metadata": {},
   "outputs": [],
   "source": [
    "\n",
    "# THINGRANK 한 줄 만들기\n",
    "# thing에서 thing_id를 가져와야함. 주의! user 1명은 thing 1개에 대해서 1나의 thingrank만 가진다. ranks는 1부터 순차적으로 올라감(즉, 기존에 그 유저가 몇 개 만들었는지 확인해야함)\n",
    "def random_thingrank(thingrank_id,user_id):\n",
    "        cursor = connection.cursor()\n",
    "        cursor.execute(\"select T.THING_ID  from USERS U ,THINGRANK TR, THING T WHERE U.USER_ID = TR.USER_ID AND T.THING_ID  = TR.THING_ID AND U.USER_ID = :TEMP_USER_ID\",TEMP_USER_ID = user_id)\n",
    "        user_t_rows = cursor.fetchall()\n",
    "        user_thing_list = [i[0] for i in user_t_rows]\n",
    "\n",
    "\n",
    "        thingrank_id = 'tr_'+str(thingrank_id)\n",
    "        \n",
    "        thing_id = random.choice(total_thing_list)\n",
    "        while thing_id in user_thing_list:\n",
    "            if len(user_thing_list) == len(total_thing_list):\n",
    "                print(\"모든 thing에 대해 thingrank 다 만들었음. 더 이상은 못 만들어\")\n",
    "                break\n",
    "            thing_id = random.choice(total_thing_list)\n",
    "            \n",
    "        ranks = len(user_t_rows)+1\n",
    "\n",
    "        thingking_year = str(random.randint(2019,2020))\n",
    "        thingking_month = str(random.randint(1,12))\n",
    "        thingking_day = str(random.randint(1,28))\n",
    "        thingking_date = thingking_year + '-' + thingking_month + '-' + thingking_day\n",
    "        thingking_date = datetime.datetime.strptime(thingking_date, '%Y-%m-%d')\n",
    "\n",
    "        update_year = str(random.randint(2021,2022))\n",
    "        update_month = str(random.randint(1,12))\n",
    "        update_day = str(random.randint(1,28))\n",
    "        update_date = update_year + '-' + update_month + '-' + update_day\n",
    "        update_date = datetime.datetime.strptime(update_date, '%Y-%m-%d')\n",
    "\n",
    "        return ((thingrank_id,thing_id, user_id, ranks, thingking_date, update_date))"
   ]
  },
  {
   "cell_type": "code",
   "execution_count": 17,
   "metadata": {},
   "outputs": [
    {
     "data": {
      "text/plain": [
       "(26057111,\n",
       " 'user_1',\n",
       " 4,\n",
       " datetime.datetime(2019, 9, 20, 0, 0),\n",
       " datetime.datetime(2022, 6, 4, 0, 0))"
      ]
     },
     "execution_count": 17,
     "metadata": {},
     "output_type": "execute_result"
    }
   ],
   "source": [
    "random_thingrank('user_1')"
   ]
  },
  {
   "cell_type": "code",
   "execution_count": 19,
   "metadata": {},
   "outputs": [
    {
     "data": {
      "text/plain": [
       "['user_1',\n",
       " 'user_10',\n",
       " 'user_11',\n",
       " 'user_12',\n",
       " 'user_13',\n",
       " 'user_14',\n",
       " 'user_15',\n",
       " 'user_16',\n",
       " 'user_17',\n",
       " 'user_18',\n",
       " 'user_19',\n",
       " 'user_2',\n",
       " 'user_20',\n",
       " 'user_21',\n",
       " 'user_22',\n",
       " 'user_23',\n",
       " 'user_24',\n",
       " 'user_25',\n",
       " 'user_26',\n",
       " 'user_27',\n",
       " 'user_28',\n",
       " 'user_29',\n",
       " 'user_3',\n",
       " 'user_30',\n",
       " 'user_31',\n",
       " 'user_32',\n",
       " 'user_33',\n",
       " 'user_34',\n",
       " 'user_35',\n",
       " 'user_36',\n",
       " 'user_37',\n",
       " 'user_38',\n",
       " 'user_39',\n",
       " 'user_4',\n",
       " 'user_40',\n",
       " 'user_41',\n",
       " 'user_42',\n",
       " 'user_43',\n",
       " 'user_44',\n",
       " 'user_45',\n",
       " 'user_46',\n",
       " 'user_47',\n",
       " 'user_48',\n",
       " 'user_49',\n",
       " 'user_5',\n",
       " 'user_50',\n",
       " 'user_6',\n",
       " 'user_7',\n",
       " 'user_8',\n",
       " 'user_9']"
      ]
     },
     "execution_count": 19,
     "metadata": {},
     "output_type": "execute_result"
    }
   ],
   "source": [
    "cursor = connection.cursor()\n",
    "cursor.execute(\"select U.USER_ID from USERS U\")\n",
    "user_rows = cursor.fetchall()\n",
    "total_user_list = [i[0] for i in user_rows]\n",
    "total_user_list"
   ]
  },
  {
   "cell_type": "code",
   "execution_count": 60,
   "metadata": {},
   "outputs": [],
   "source": [
    "def auto_make_thingrank(n):\n",
    "    count = 0\n",
    "    while count < n:\n",
    "        # user 1명 랜덤 선택\n",
    "        thingrank_id = count +1\n",
    "        user = random.choice(total_user_list)\n",
    "        one_tr = random_thingrank(thingrank_id,user)\n",
    "        # print(\"INSERT INTO THINGRANK VALUES ('{}','{}','{}',{},'{}','{}');\".format(one_tr[0],one_tr[1],one_tr[2],one_tr[3],one_tr[4].date(),one_tr[5].date()))\n",
    "        cursor.execute(\"INSERT INTO THINGRANK VALUES (:1,:2,:3,:4,:5,:6)\", one_tr)        \n",
    "        count +=1"
   ]
  },
  {
   "cell_type": "code",
   "execution_count": 63,
   "metadata": {},
   "outputs": [],
   "source": [
    "auto_make_thingrank(300)"
   ]
  },
  {
   "cell_type": "code",
   "execution_count": 64,
   "metadata": {},
   "outputs": [],
   "source": [
    "connection.commit()"
   ]
  }
 ],
 "metadata": {
  "kernelspec": {
   "display_name": "Python 3.10.2 64-bit",
   "language": "python",
   "name": "python3"
  },
  "language_info": {
   "codemirror_mode": {
    "name": "ipython",
    "version": 3
   },
   "file_extension": ".py",
   "mimetype": "text/x-python",
   "name": "python",
   "nbconvert_exporter": "python",
   "pygments_lexer": "ipython3",
   "version": "3.10.2"
  },
  "orig_nbformat": 4,
  "vscode": {
   "interpreter": {
    "hash": "9e000c0c807c08f87b67fc6d14b7494c203ab463a6abf9db2311fb6e02a8ff8c"
   }
  }
 },
 "nbformat": 4,
 "nbformat_minor": 2
}
