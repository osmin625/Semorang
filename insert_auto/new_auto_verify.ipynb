{
 "cells": [
  {
   "cell_type": "code",
   "execution_count": 1,
   "metadata": {},
   "outputs": [
    {
     "name": "stdout",
     "output_type": "stream",
     "text": [
      "<cx_Oracle.Connection to admin@semodb_high>\n"
     ]
    }
   ],
   "source": [
    "import random\n",
    "import cx_Oracle\n",
    "import datetime \n",
    "cx_Oracle.init_oracle_client(lib_dir=r\"C:\\OracleDBproject\\instantclient_21_7\")  # 여기서 각자 라이브러리 위치 설정해줘야함\n",
    "connection = cx_Oracle.connect(user='admin', password='Semorang1234', dsn='semodb_high')\n",
    "# 본인이 접속할 오라클 클라우드 DB 사용자이름, 비밀번호, dsn을 넣어준다.\n",
    "print(connection)"
   ]
  },
  {
   "cell_type": "code",
   "execution_count": 2,
   "metadata": {},
   "outputs": [],
   "source": [
    "# INSERT 출력을 위한 OUTPUT_LIST\n",
    "output_list =[]"
   ]
  },
  {
   "cell_type": "code",
   "execution_count": 3,
   "metadata": {},
   "outputs": [],
   "source": [
    "# USER 전부 가져오기\n",
    "cursor = connection.cursor()\n",
    "cursor.execute(\"select U.USER_ID from USERS U\")\n",
    "user_rows = cursor.fetchall()\n",
    "total_user_list = [i[0] for i in user_rows]"
   ]
  },
  {
   "cell_type": "code",
   "execution_count": 4,
   "metadata": {},
   "outputs": [],
   "source": [
    "# 새로운 영수증 만들고 receipt_id 반환하기\n",
    "def make_receipt():\n",
    "    cursor = connection.cursor()\n",
    "    cursor.execute(\"select COUNT(*) from RECEIPT\")\n",
    "    receipt_count = cursor.fetchone()[0]\n",
    "    \n",
    "    receipt_id = 'receipt_'+ str(receipt_count+1)\n",
    "    \n",
    "    year = str(random.randint(2019,2022))\n",
    "    month = str(random.randint(1,12))\n",
    "    day = str(random.randint(1,28))\n",
    "    date = year + '-' + month + '-' + day\n",
    "    date = datetime.datetime.strptime(date, '%Y-%m-%d')\n",
    "    \n",
    "    img_url = 'http://img' + str(receipt_count+1) + '.jpg'\n",
    "\n",
    "    next_receipt_tuple= (receipt_id, date, img_url)\n",
    "    cursor.execute(\"INSERT INTO RECEIPT VALUES (:1,:2,:3)\", next_receipt_tuple) \n",
    "    print(\"INSERT INTO RECEIPT VALUES ('{}','{}','{}');\".format(next_receipt_tuple[0],next_receipt_tuple[1].date(),next_receipt_tuple[2]))\n",
    "    return receipt_id"
   ]
  },
  {
   "cell_type": "code",
   "execution_count": 5,
   "metadata": {},
   "outputs": [],
   "source": [
    "not_verified_thing_query = \"\"\"WITH NOT_VERIFIED_THING AS\n",
    "(\n",
    "\tSELECT \n",
    "\t\tTEMP.USER_ID AS USER_ID\n",
    "\t\t,TEMP.THING_ID AS THING_ID\n",
    "\tFROM (\n",
    "\t\t\t(SELECT U1.USER_ID, T1.THING_ID\n",
    "\t\t\t FROM THING T1, USERS U1,THINGRANK TR\n",
    "\t\t\t WHERE TR.USER_ID= U1.USER_ID\n",
    "\t\t\t \tAND TR.THING_ID = T1.THING_ID)\n",
    "\t\t\t\n",
    "\t\t\tMINUS\n",
    "\t\t\t\n",
    "\t\t\t(SELECT U.USER_ID ,T.THING_ID \n",
    "\t\t\tFROM USERS U, THING T ,VERIFY V \n",
    "\t\t\tWHERE U.USER_ID=V.USER_ID\n",
    "\t\t\t\tAND T.THING_ID = V.THING_ID\n",
    "\t\t\t)\n",
    "\t\t) TEMP\n",
    "\t)\n",
    "SELECT NVT.THING_ID\n",
    "FROM \n",
    "\tNOT_VERIFIED_THING NVT\n",
    "WHERE NVT.USER_ID = :TEMP_USER_ID\"\"\""
   ]
  },
  {
   "cell_type": "code",
   "execution_count": 6,
   "metadata": {},
   "outputs": [],
   "source": [
    "def random_verify(verify_id,user_id):\n",
    "    # 해당 유저의 THINGRANK한 THING 가져오기 \n",
    "    cursor = connection.cursor()\n",
    "    cursor.execute(not_verified_thing_query,TEMP_USER_ID = user_id)\n",
    "    user_t_rows = cursor.fetchall()\n",
    "    if user_t_rows == False:\n",
    "        return 0\n",
    "    user_thing_list = [i[0] for i in user_t_rows]\n",
    "\n",
    "    verify_id = 'verify_'+str(verify_id)\n",
    "    receipt_id = make_receipt()\n",
    "    thing_id = random.choice(user_thing_list)\n",
    "    user_id = user_id\n",
    "    \n",
    "    year = str(random.randint(2019,2022))\n",
    "    month = str(random.randint(1,12))\n",
    "    day = str(random.randint(1,28))\n",
    "    verify_date = year + '-' + month + '-' + day\n",
    "    verify_date = datetime.datetime.strptime(verify_date, '%Y-%m-%d')\n",
    "\n",
    "    return ((verify_id,receipt_id,thing_id,user_id,verify_date))"
   ]
  },
  {
   "cell_type": "code",
   "execution_count": 7,
   "metadata": {},
   "outputs": [],
   "source": [
    "# 가져온 THINGRANK에 대해서 VERIFY 진행\n",
    "def auto_make_verify(n):\n",
    "    count = 0\n",
    "    while count < n:\n",
    "        # user 1명 랜덤 선택\n",
    "        verify_id = count +1\n",
    "        user = random.choice(total_user_list)\n",
    "        one_verify = random_verify(verify_id,user)\n",
    "        if one_verify == 0:\n",
    "            continue\n",
    "        # return ((verify_id,receipt_id,thing_id,user_id,verify_date))\n",
    "        output_list.append(\"INSERT INTO VERIFY VALUES ('{}','{}',{},'{}','{}');\".format(one_verify[0],one_verify[1],one_verify[2],one_verify[3],one_verify[4].date()))\n",
    "        cursor.execute(\"INSERT INTO VERIFY VALUES (:1,:2,:3,:4,:5)\", one_verify)        \n",
    "        count +=1"
   ]
  },
  {
   "cell_type": "code",
   "execution_count": 8,
   "metadata": {},
   "outputs": [
    {
     "name": "stdout",
     "output_type": "stream",
     "text": [
      "INSERT INTO RECEIPT VALUES ('receipt_1','2020-07-14','http://img1.jpg');\n",
      "INSERT INTO RECEIPT VALUES ('receipt_2','2022-01-10','http://img2.jpg');\n",
      "INSERT INTO RECEIPT VALUES ('receipt_3','2021-09-20','http://img3.jpg');\n",
      "INSERT INTO RECEIPT VALUES ('receipt_4','2022-11-23','http://img4.jpg');\n",
      "INSERT INTO RECEIPT VALUES ('receipt_5','2021-03-23','http://img5.jpg');\n",
      "INSERT INTO RECEIPT VALUES ('receipt_6','2019-10-10','http://img6.jpg');\n",
      "INSERT INTO RECEIPT VALUES ('receipt_7','2021-03-14','http://img7.jpg');\n",
      "INSERT INTO RECEIPT VALUES ('receipt_8','2020-09-03','http://img8.jpg');\n",
      "INSERT INTO RECEIPT VALUES ('receipt_9','2021-05-09','http://img9.jpg');\n",
      "INSERT INTO RECEIPT VALUES ('receipt_10','2021-12-18','http://img10.jpg');\n",
      "INSERT INTO RECEIPT VALUES ('receipt_11','2019-03-05','http://img11.jpg');\n",
      "INSERT INTO RECEIPT VALUES ('receipt_12','2020-03-10','http://img12.jpg');\n",
      "INSERT INTO RECEIPT VALUES ('receipt_13','2021-11-22','http://img13.jpg');\n",
      "INSERT INTO RECEIPT VALUES ('receipt_14','2022-07-14','http://img14.jpg');\n",
      "INSERT INTO RECEIPT VALUES ('receipt_15','2022-12-05','http://img15.jpg');\n",
      "INSERT INTO RECEIPT VALUES ('receipt_16','2019-12-10','http://img16.jpg');\n",
      "INSERT INTO RECEIPT VALUES ('receipt_17','2019-09-18','http://img17.jpg');\n",
      "INSERT INTO RECEIPT VALUES ('receipt_18','2022-04-23','http://img18.jpg');\n",
      "INSERT INTO RECEIPT VALUES ('receipt_19','2020-07-08','http://img19.jpg');\n",
      "INSERT INTO RECEIPT VALUES ('receipt_20','2022-05-20','http://img20.jpg');\n",
      "INSERT INTO RECEIPT VALUES ('receipt_21','2022-01-22','http://img21.jpg');\n",
      "INSERT INTO RECEIPT VALUES ('receipt_22','2020-07-07','http://img22.jpg');\n",
      "INSERT INTO RECEIPT VALUES ('receipt_23','2022-02-18','http://img23.jpg');\n",
      "INSERT INTO RECEIPT VALUES ('receipt_24','2022-10-06','http://img24.jpg');\n",
      "INSERT INTO RECEIPT VALUES ('receipt_25','2020-05-01','http://img25.jpg');\n",
      "INSERT INTO RECEIPT VALUES ('receipt_26','2020-01-12','http://img26.jpg');\n",
      "INSERT INTO RECEIPT VALUES ('receipt_27','2020-10-22','http://img27.jpg');\n",
      "INSERT INTO RECEIPT VALUES ('receipt_28','2020-02-02','http://img28.jpg');\n",
      "INSERT INTO RECEIPT VALUES ('receipt_29','2021-06-13','http://img29.jpg');\n",
      "INSERT INTO RECEIPT VALUES ('receipt_30','2021-03-12','http://img30.jpg');\n",
      "INSERT INTO RECEIPT VALUES ('receipt_31','2020-02-15','http://img31.jpg');\n",
      "INSERT INTO RECEIPT VALUES ('receipt_32','2020-12-02','http://img32.jpg');\n",
      "INSERT INTO RECEIPT VALUES ('receipt_33','2021-07-24','http://img33.jpg');\n",
      "INSERT INTO RECEIPT VALUES ('receipt_34','2019-07-07','http://img34.jpg');\n",
      "INSERT INTO RECEIPT VALUES ('receipt_35','2021-10-02','http://img35.jpg');\n",
      "INSERT INTO RECEIPT VALUES ('receipt_36','2019-08-25','http://img36.jpg');\n",
      "INSERT INTO RECEIPT VALUES ('receipt_37','2020-04-25','http://img37.jpg');\n",
      "INSERT INTO RECEIPT VALUES ('receipt_38','2022-01-18','http://img38.jpg');\n",
      "INSERT INTO RECEIPT VALUES ('receipt_39','2022-11-20','http://img39.jpg');\n",
      "INSERT INTO RECEIPT VALUES ('receipt_40','2019-09-01','http://img40.jpg');\n",
      "INSERT INTO RECEIPT VALUES ('receipt_41','2022-12-10','http://img41.jpg');\n",
      "INSERT INTO RECEIPT VALUES ('receipt_42','2020-05-03','http://img42.jpg');\n",
      "INSERT INTO RECEIPT VALUES ('receipt_43','2021-05-17','http://img43.jpg');\n",
      "INSERT INTO RECEIPT VALUES ('receipt_44','2022-11-13','http://img44.jpg');\n",
      "INSERT INTO RECEIPT VALUES ('receipt_45','2021-01-19','http://img45.jpg');\n",
      "INSERT INTO RECEIPT VALUES ('receipt_46','2022-10-25','http://img46.jpg');\n",
      "INSERT INTO RECEIPT VALUES ('receipt_47','2021-03-14','http://img47.jpg');\n",
      "INSERT INTO RECEIPT VALUES ('receipt_48','2022-03-04','http://img48.jpg');\n",
      "INSERT INTO RECEIPT VALUES ('receipt_49','2021-07-04','http://img49.jpg');\n",
      "INSERT INTO RECEIPT VALUES ('receipt_50','2020-04-14','http://img50.jpg');\n"
     ]
    }
   ],
   "source": [
    "auto_make_verify(50)"
   ]
  },
  {
   "cell_type": "code",
   "execution_count": 9,
   "metadata": {},
   "outputs": [],
   "source": [
    "connection.commit()"
   ]
  },
  {
   "cell_type": "code",
   "execution_count": 10,
   "metadata": {},
   "outputs": [
    {
     "name": "stdout",
     "output_type": "stream",
     "text": [
      "INSERT INTO VERIFY VALUES ('verify_1','receipt_1',16726942,'user_34','2020-12-12');\n",
      "INSERT INTO VERIFY VALUES ('verify_2','receipt_2',18390076,'user_13','2022-03-19');\n",
      "INSERT INTO VERIFY VALUES ('verify_3','receipt_3',23317507,'user_50','2020-08-09');\n",
      "INSERT INTO VERIFY VALUES ('verify_4','receipt_4',26248029,'user_34','2019-01-27');\n",
      "INSERT INTO VERIFY VALUES ('verify_5','receipt_5',26303950,'user_30','2021-06-15');\n",
      "INSERT INTO VERIFY VALUES ('verify_6','receipt_6',17720028,'user_39','2022-04-06');\n",
      "INSERT INTO VERIFY VALUES ('verify_7','receipt_7',18223652,'user_43','2020-04-16');\n",
      "INSERT INTO VERIFY VALUES ('verify_8','receipt_8',16410914,'user_39','2019-10-10');\n",
      "INSERT INTO VERIFY VALUES ('verify_9','receipt_9',25458448,'user_32','2022-07-13');\n",
      "INSERT INTO VERIFY VALUES ('verify_10','receipt_10',25592608,'user_7','2021-01-09');\n",
      "INSERT INTO VERIFY VALUES ('verify_11','receipt_11',18013943,'user_12','2020-11-06');\n",
      "INSERT INTO VERIFY VALUES ('verify_12','receipt_12',12074539,'user_34','2019-06-15');\n",
      "INSERT INTO VERIFY VALUES ('verify_13','receipt_13',17856847,'user_49','2020-07-20');\n",
      "INSERT INTO VERIFY VALUES ('verify_14','receipt_14',23178356,'user_31','2022-10-15');\n",
      "INSERT INTO VERIFY VALUES ('verify_15','receipt_15',23382779,'user_14','2020-10-27');\n",
      "INSERT INTO VERIFY VALUES ('verify_16','receipt_16',16410914,'user_23','2019-01-16');\n",
      "INSERT INTO VERIFY VALUES ('verify_17','receipt_17',12074539,'user_8','2022-07-16');\n",
      "INSERT INTO VERIFY VALUES ('verify_18','receipt_18',18120193,'user_42','2022-02-11');\n",
      "INSERT INTO VERIFY VALUES ('verify_19','receipt_19',18013943,'user_34','2021-10-16');\n",
      "INSERT INTO VERIFY VALUES ('verify_20','receipt_20',23178356,'user_15','2022-12-25');\n",
      "INSERT INTO VERIFY VALUES ('verify_21','receipt_21',18120193,'user_6','2022-07-07');\n",
      "INSERT INTO VERIFY VALUES ('verify_22','receipt_22',16947896,'user_6','2019-03-07');\n",
      "INSERT INTO VERIFY VALUES ('verify_23','receipt_23',16679243,'user_42','2021-12-11');\n",
      "INSERT INTO VERIFY VALUES ('verify_24','receipt_24',17050121,'user_24','2021-04-22');\n",
      "INSERT INTO VERIFY VALUES ('verify_25','receipt_25',19994629,'user_34','2021-06-12');\n",
      "INSERT INTO VERIFY VALUES ('verify_26','receipt_26',17470753,'user_36','2019-01-14');\n",
      "INSERT INTO VERIFY VALUES ('verify_27','receipt_27',17470753,'user_18','2021-08-16');\n",
      "INSERT INTO VERIFY VALUES ('verify_28','receipt_28',23382779,'user_20','2019-04-24');\n",
      "INSERT INTO VERIFY VALUES ('verify_29','receipt_29',26248029,'user_10','2020-02-26');\n",
      "INSERT INTO VERIFY VALUES ('verify_30','receipt_30',16642883,'user_23','2021-02-18');\n",
      "INSERT INTO VERIFY VALUES ('verify_31','receipt_31',17126506,'user_3','2019-02-14');\n",
      "INSERT INTO VERIFY VALUES ('verify_32','receipt_32',17063413,'user_18','2021-05-03');\n",
      "INSERT INTO VERIFY VALUES ('verify_33','receipt_33',20546259,'user_49','2019-04-28');\n",
      "INSERT INTO VERIFY VALUES ('verify_34','receipt_34',25458448,'user_48','2022-08-24');\n",
      "INSERT INTO VERIFY VALUES ('verify_35','receipt_35',25290079,'user_40','2022-03-04');\n",
      "INSERT INTO VERIFY VALUES ('verify_36','receipt_36',23178356,'user_13','2019-02-14');\n",
      "INSERT INTO VERIFY VALUES ('verify_37','receipt_37',18120193,'user_44','2021-02-05');\n",
      "INSERT INTO VERIFY VALUES ('verify_38','receipt_38',18013943,'user_4','2020-02-15');\n",
      "INSERT INTO VERIFY VALUES ('verify_39','receipt_39',16410914,'user_8','2022-12-28');\n",
      "INSERT INTO VERIFY VALUES ('verify_40','receipt_40',26431599,'user_38','2019-06-01');\n",
      "INSERT INTO VERIFY VALUES ('verify_41','receipt_41',12074539,'user_3','2022-07-28');\n",
      "INSERT INTO VERIFY VALUES ('verify_42','receipt_42',19914111,'user_5','2020-01-08');\n",
      "INSERT INTO VERIFY VALUES ('verify_43','receipt_43',16060477,'user_46','2022-08-15');\n",
      "INSERT INTO VERIFY VALUES ('verify_44','receipt_44',16410914,'user_30','2019-12-24');\n",
      "INSERT INTO VERIFY VALUES ('verify_45','receipt_45',17572409,'user_2','2022-02-19');\n",
      "INSERT INTO VERIFY VALUES ('verify_46','receipt_46',18390076,'user_21','2020-09-19');\n",
      "INSERT INTO VERIFY VALUES ('verify_47','receipt_47',18223652,'user_25','2022-06-15');\n",
      "INSERT INTO VERIFY VALUES ('verify_48','receipt_48',17126506,'user_43','2020-08-08');\n",
      "INSERT INTO VERIFY VALUES ('verify_49','receipt_49',16679243,'user_7','2019-10-11');\n",
      "INSERT INTO VERIFY VALUES ('verify_50','receipt_50',18042774,'user_36','2019-01-14');\n"
     ]
    }
   ],
   "source": [
    "for o in output_list:\n",
    "    print(o)"
   ]
  }
 ],
 "metadata": {
  "kernelspec": {
   "display_name": "Python 3.10.2 64-bit",
   "language": "python",
   "name": "python3"
  },
  "language_info": {
   "codemirror_mode": {
    "name": "ipython",
    "version": 3
   },
   "file_extension": ".py",
   "mimetype": "text/x-python",
   "name": "python",
   "nbconvert_exporter": "python",
   "pygments_lexer": "ipython3",
   "version": "3.10.2"
  },
  "orig_nbformat": 4,
  "vscode": {
   "interpreter": {
    "hash": "9e000c0c807c08f87b67fc6d14b7494c203ab463a6abf9db2311fb6e02a8ff8c"
   }
  }
 },
 "nbformat": 4,
 "nbformat_minor": 2
}
