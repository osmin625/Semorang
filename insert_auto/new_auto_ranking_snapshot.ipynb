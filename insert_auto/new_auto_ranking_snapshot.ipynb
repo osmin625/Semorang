{
 "cells": [
  {
   "cell_type": "code",
   "execution_count": 9,
   "metadata": {},
   "outputs": [],
   "source": [
    "import random\n",
    "import cx_Oracle\n",
    "import pandas as pd\n",
    "import datetime "
   ]
  },
  {
   "cell_type": "code",
   "execution_count": 10,
   "metadata": {},
   "outputs": [
    {
     "ename": "ProgrammingError",
     "evalue": "Oracle Client library has already been initialized",
     "output_type": "error",
     "traceback": [
      "\u001b[1;31m---------------------------------------------------------------------------\u001b[0m",
      "\u001b[1;31mProgrammingError\u001b[0m                          Traceback (most recent call last)",
      "\u001b[1;32mc:\\Users\\ys050\\Dropbox\\내 PC (LAPTOP-60DNJ58Q)\\Desktop\\문서\\대학생활\\2022-2 강의\\데이터베이스 - 서영균\\프로젝트\\Semorang\\insert_auto\\new_auto_ranking_snapshot.ipynb 셀 2\u001b[0m in \u001b[0;36m<cell line: 1>\u001b[1;34m()\u001b[0m\n\u001b[1;32m----> <a href='vscode-notebook-cell:/c%3A/Users/ys050/Dropbox/%EB%82%B4%20PC%20%28LAPTOP-60DNJ58Q%29/Desktop/%EB%AC%B8%EC%84%9C/%EB%8C%80%ED%95%99%EC%83%9D%ED%99%9C/2022-2%20%EA%B0%95%EC%9D%98/%EB%8D%B0%EC%9D%B4%ED%84%B0%EB%B2%A0%EC%9D%B4%EC%8A%A4%20-%20%EC%84%9C%EC%98%81%EA%B7%A0/%ED%94%84%EB%A1%9C%EC%A0%9D%ED%8A%B8/Semorang/insert_auto/new_auto_ranking_snapshot.ipynb#W1sZmlsZQ%3D%3D?line=0'>1</a>\u001b[0m cx_Oracle\u001b[39m.\u001b[39;49minit_oracle_client(lib_dir\u001b[39m=\u001b[39;49m\u001b[39mr\u001b[39;49m\u001b[39m\"\u001b[39;49m\u001b[39mC:\u001b[39;49m\u001b[39m\\\u001b[39;49m\u001b[39mOracleDBproject\u001b[39;49m\u001b[39m\\\u001b[39;49m\u001b[39minstantclient_21_7\u001b[39;49m\u001b[39m\"\u001b[39;49m)  \u001b[39m# 여기서 각자 라이브러리 위치 설정해줘야함\u001b[39;00m\n\u001b[0;32m      <a href='vscode-notebook-cell:/c%3A/Users/ys050/Dropbox/%EB%82%B4%20PC%20%28LAPTOP-60DNJ58Q%29/Desktop/%EB%AC%B8%EC%84%9C/%EB%8C%80%ED%95%99%EC%83%9D%ED%99%9C/2022-2%20%EA%B0%95%EC%9D%98/%EB%8D%B0%EC%9D%B4%ED%84%B0%EB%B2%A0%EC%9D%B4%EC%8A%A4%20-%20%EC%84%9C%EC%98%81%EA%B7%A0/%ED%94%84%EB%A1%9C%EC%A0%9D%ED%8A%B8/Semorang/insert_auto/new_auto_ranking_snapshot.ipynb#W1sZmlsZQ%3D%3D?line=1'>2</a>\u001b[0m connection \u001b[39m=\u001b[39m cx_Oracle\u001b[39m.\u001b[39mconnect(user\u001b[39m=\u001b[39m\u001b[39m'\u001b[39m\u001b[39madmin\u001b[39m\u001b[39m'\u001b[39m, password\u001b[39m=\u001b[39m\u001b[39m'\u001b[39m\u001b[39mSemorang1234\u001b[39m\u001b[39m'\u001b[39m, dsn\u001b[39m=\u001b[39m\u001b[39m'\u001b[39m\u001b[39msemodb_high\u001b[39m\u001b[39m'\u001b[39m)\n\u001b[0;32m      <a href='vscode-notebook-cell:/c%3A/Users/ys050/Dropbox/%EB%82%B4%20PC%20%28LAPTOP-60DNJ58Q%29/Desktop/%EB%AC%B8%EC%84%9C/%EB%8C%80%ED%95%99%EC%83%9D%ED%99%9C/2022-2%20%EA%B0%95%EC%9D%98/%EB%8D%B0%EC%9D%B4%ED%84%B0%EB%B2%A0%EC%9D%B4%EC%8A%A4%20-%20%EC%84%9C%EC%98%81%EA%B7%A0/%ED%94%84%EB%A1%9C%EC%A0%9D%ED%8A%B8/Semorang/insert_auto/new_auto_ranking_snapshot.ipynb#W1sZmlsZQ%3D%3D?line=2'>3</a>\u001b[0m \u001b[39m# 본인이 접속할 오라클 클라우드 DB 사용자이름, 비밀번호, dsn을 넣어준다.\u001b[39;00m\n",
      "\u001b[1;31mProgrammingError\u001b[0m: Oracle Client library has already been initialized"
     ]
    }
   ],
   "source": [
    "cx_Oracle.init_oracle_client(lib_dir=r\"C:\\OracleDBproject\\instantclient_21_7\")  # 여기서 각자 라이브러리 위치 설정해줘야함\n",
    "connection = cx_Oracle.connect(user='admin', password='Semorang1234', dsn='semodb_high')\n",
    "# 본인이 접속할 오라클 클라우드 DB 사용자이름, 비밀번호, dsn을 넣어준다.\n",
    "print(connection)"
   ]
  },
  {
   "cell_type": "code",
   "execution_count": 10,
   "metadata": {},
   "outputs": [],
   "source": [
    "def execute_sql(query):\n",
    "    cursor = connection.cursor()\n",
    "    cursor.execute(query)\n",
    "    rows = cursor.fetchall()\n",
    "    for row in rows:\n",
    "        print(row)\n",
    "    # return len(rows)"
   ]
  },
  {
   "cell_type": "code",
   "execution_count": 3,
   "metadata": {},
   "outputs": [
    {
     "ename": "NameError",
     "evalue": "name 'execute_sql' is not defined",
     "output_type": "error",
     "traceback": [
      "\u001b[1;31m---------------------------------------------------------------------------\u001b[0m",
      "\u001b[1;31mNameError\u001b[0m                                 Traceback (most recent call last)",
      "\u001b[1;32mc:\\Users\\ys050\\Dropbox\\내 PC (LAPTOP-60DNJ58Q)\\Desktop\\문서\\대학생활\\2022-2 강의\\데이터베이스 - 서영균\\프로젝트\\Semorang\\insert_auto\\new_auto_ranking_snapshot.ipynb 셀 4\u001b[0m in \u001b[0;36m<cell line: 1>\u001b[1;34m()\u001b[0m\n\u001b[1;32m----> <a href='vscode-notebook-cell:/c%3A/Users/ys050/Dropbox/%EB%82%B4%20PC%20%28LAPTOP-60DNJ58Q%29/Desktop/%EB%AC%B8%EC%84%9C/%EB%8C%80%ED%95%99%EC%83%9D%ED%99%9C/2022-2%20%EA%B0%95%EC%9D%98/%EB%8D%B0%EC%9D%B4%ED%84%B0%EB%B2%A0%EC%9D%B4%EC%8A%A4%20-%20%EC%84%9C%EC%98%81%EA%B7%A0/%ED%94%84%EB%A1%9C%EC%A0%9D%ED%8A%B8/Semorang/insert_auto/new_auto_ranking_snapshot.ipynb#W3sZmlsZQ%3D%3D?line=0'>1</a>\u001b[0m execute_sql(\u001b[39m\"\u001b[39m\u001b[39mselect * from RANKING_SNAPSHOT\u001b[39m\u001b[39m\"\u001b[39m)\n",
      "\u001b[1;31mNameError\u001b[0m: name 'execute_sql' is not defined"
     ]
    }
   ],
   "source": [
    "execute_sql(\"select * from RANKING_SNAPSHOT\")"
   ]
  },
  {
   "cell_type": "code",
   "execution_count": 18,
   "metadata": {},
   "outputs": [],
   "source": [
    "def desc(table):\n",
    "    cur = connection.cursor()\n",
    "    cur.execute(\"select * from \"+table)\n",
    "    print(\" (name, type, display_size, internal_size, precision, scale, null_ok)\")\n",
    "    for column in cur.description:\n",
    "        print(column)"
   ]
  },
  {
   "cell_type": "code",
   "execution_count": 19,
   "metadata": {},
   "outputs": [
    {
     "name": "stdout",
     "output_type": "stream",
     "text": [
      " (name, type, display_size, internal_size, precision, scale, null_ok)\n",
      "('SNAPSHOT_ID', <cx_Oracle.DbType DB_TYPE_VARCHAR>, 11, 11, None, None, 0)\n",
      "('THING_RANK_ID', <cx_Oracle.DbType DB_TYPE_VARCHAR>, 11, 11, None, None, 1)\n",
      "('USER_ID', <cx_Oracle.DbType DB_TYPE_VARCHAR>, 11, 11, None, None, 1)\n",
      "('CONTENT', <cx_Oracle.DbType DB_TYPE_VARCHAR>, 3000, 3000, None, None, 0)\n",
      "('TAKEN_DATE', <cx_Oracle.DbType DB_TYPE_DATE>, 23, None, None, None, 1)\n",
      "('UPDATE_DATE', <cx_Oracle.DbType DB_TYPE_DATE>, 23, None, None, None, 1)\n",
      "('LIKE_COUNT', <cx_Oracle.DbType DB_TYPE_NUMBER>, 11, None, 10, 0, 1)\n",
      "('DISLIKE_COUNT', <cx_Oracle.DbType DB_TYPE_NUMBER>, 11, None, 10, 0, 1)\n"
     ]
    }
   ],
   "source": [
    "desc(\"ranking_snapshot\")"
   ]
  },
  {
   "cell_type": "code",
   "execution_count": 11,
   "metadata": {},
   "outputs": [],
   "source": [
    "## 게시물 내용 만들기\n",
    "lyric = \"\"\"어쩐지 오늘 알람이 안 울려\n",
    "아무거나 막 입었고 지각이야\n",
    "아래로 몸을 낮추고 숨을 꾹 참아봤지만\n",
    "아이쿠 들켰나 봐\n",
    "내 맘이 방심할 때마다 불쑥 나타난 뒤\n",
    "헤엄치듯 멀어지는 너\n",
    "또 물보라를 일으켜\n",
    "Da-da-da-da, da-da-da-da-da-da\n",
    "Da-da-da-da 또 물보라를 일으켜\n",
    "Da-da-da-da, da-da-da-da-da-da\n",
    "Da-da-da-da 또 물보라를 일으켜\n",
    "이 파도 위 난 온종일\n",
    "서핑을 하는 느낌 아찔한 feeling\n",
    "난 솔직히 푹 빠졌지\n",
    "하지만 이건 secret\n",
    "또 물보라를 일으켜\n",
    "갑자기 웃으며 얼굴을 불쑥 다가온 뒤\n",
    "원을 갈라 하트를 그려\n",
    "또 물보라를 일으켜\n",
    "Da-da-da-da, da-da-da-da-da-da\n",
    "Da-da-da-da 또 물보라를 일으켜\n",
    "Da-da-da-da, da-da-da-da-da-da\n",
    "Da-da-da-da 또 물보라를 일으켜\n",
    "Da-da-da-da, da-da-da-da-da-da\n",
    "Da-da-da-da 또 물보라를 일으켜\n",
    "Da-da, da-da-da-da-da-da\n",
    "Da-da-da-da 또 물보라를 일으켜\n",
    "단팥을 넣었으면 단팥빵\n",
    "크림을 넣었으면 크림빵\n",
    "겨울엔 따끈따끈 호빵\n",
    "아침엔 똥글똥글 모닝빵\n",
    "가루 가루 밀가루 반죽은\n",
    "치대고 치대면 부풀어 오르고\n",
    "오랜 시간 손맛은\n",
    "우리를 배신하지 않는다\n",
    "빵 먹고 빵빵 뱃속이 빵빵\n",
    "빵 먹고 빵빵 든든해 빵빵\n",
    "딸기잼도 샐러드도\n",
    "발라버려 어울려\n",
    "빵 먹다 뻑뻑하면 우유를 한잔\n",
    "빵 먹다 너무달아 커피를 한잔\n",
    "꼭꼭 씹어 먹다보면\n",
    "살살 녹아버린다\n",
    "빵빵빵빵 빵 빵빵\n",
    "빵빵빵빵 빵 빵빵\n",
    "빵빵빵빵공공칠 빵\n",
    "안녕하세요\n",
    "제 이름은 빵빵빵 입니다\n",
    "50줄 체워야되서 쓰는데 뭘 써야될까요\n",
    "50줄 체웠나 확인해볼까요?\"\"\"\n",
    "lyric = lyric.split('\\n')\n",
    "lyric = lyric[:50]"
   ]
  },
  {
   "cell_type": "code",
   "execution_count": 12,
   "metadata": {},
   "outputs": [],
   "source": [
    "\n",
    "def random_snapshot_data(snapshot_id,user_id):\n",
    "        rank_snap_tup = []\n",
    "\n",
    "        rank_snap_id = snapshot_id\n",
    "        user = user_id\n",
    "        content = lyric[random.randint(0,49)]\n",
    "\n",
    "        taken_year = str(random.randint(2019,2020))\n",
    "        taken_month = str(random.randint(1,12))\n",
    "        taken_day = str(random.randint(1,28))\n",
    "        taken_date = taken_year + '-' + taken_month + '-' + taken_day\n",
    "        taken_date = datetime.datetime.strptime(taken_date, '%Y-%m-%d')\n",
    "\n",
    "        update_year = str(random.randint(2021,2022))\n",
    "        update_month = str(random.randint(1,12))\n",
    "        update_day = str(random.randint(1,28))\n",
    "        update_date = update_year + '-' + update_month + '-' + update_day\n",
    "        update_date = datetime.datetime.strptime(update_date, '%Y-%m-%d')\n",
    "\n",
    "        like = random.randint(0,10*100)\n",
    "        dislike = random.randint(0,10*100)\n",
    "\n",
    "        return ((rank_snap_id, user, content, taken_date, update_date, like, dislike))"
   ]
  },
  {
   "cell_type": "code",
   "execution_count": 13,
   "metadata": {},
   "outputs": [],
   "source": [
    "# n 명의 유저에 대한 thingrank를 가져오고 그중에서 랜덤하게 선택해서 데이터 생성\n",
    "def make_thingrank_user(n):\n",
    "    # user ID 다 가져오기\n",
    "    cursor = connection.cursor()\n",
    "    cursor.execute(\"select U.USER_ID from USERS U\")\n",
    "    user_rows = cursor.fetchall()\n",
    "    # print(len(rows))\n",
    "\n",
    "    count = 0\n",
    "    while count < n:\n",
    "        # user 1명 랜덤 선택\n",
    "        user = user_rows[random.randint(0,len(user_rows)-1)][0]\n",
    "        cursor = connection.cursor()\n",
    "        # user 1명에 대한 thing_rank 전부 가져오기        \n",
    "        cursor.execute(\"select TR.THING_RANK_ID from USERS U ,THINGRANK TR WHERE U.USER_ID = TR.USER_ID AND U.USER_ID = :TEMP_USER_ID\",TEMP_USER_ID = user)\n",
    "        tr_rows = cursor.fetchall()\n",
    "        # print(tr_rows)\n",
    "        \n",
    "        # 해당 user에 대한 thingrank가 있다면 snapshot 생성\n",
    "        if(len(tr_rows)>0):\n",
    "            # snapshot id 1개 생성\n",
    "            snapshot_id = \"snapshot_\" + str(count+1)\n",
    "            # RS insert문 생성\n",
    "            cursor.execute(\"INSERT INTO RANKING_SNAPSHOT VALUES (:1,:2,:3,:4,:5,:6,:7)\", random_snapshot_data(snapshot_id,user))\n",
    "            # S_include_TR insert문 i개 생성\n",
    "            i = random.randint(1,len(tr_rows))\n",
    "            for j in range(0,i):\n",
    "                cursor.execute(\"INSERT INTO S_INCLUDE_TR VALUES (:SNAPSHOT_ID,:THING_RANK_ID)\",SNAPSHOT_ID=snapshot_id,THING_RANK_ID=tr_rows[j][0])\n",
    "            count +=1\n",
    "        else:\n",
    "            pass\n"
   ]
  },
  {
   "cell_type": "code",
   "execution_count": 14,
   "metadata": {},
   "outputs": [],
   "source": [
    "make_thingrank_user(99)"
   ]
  },
  {
   "cell_type": "code",
   "execution_count": 15,
   "metadata": {},
   "outputs": [],
   "source": [
    "connection.commit()"
   ]
  }
 ],
 "metadata": {
  "kernelspec": {
   "display_name": "Python 3.10.2 64-bit",
   "language": "python",
   "name": "python3"
  },
  "language_info": {
   "codemirror_mode": {
    "name": "ipython",
    "version": 3
   },
   "file_extension": ".py",
   "mimetype": "text/x-python",
   "name": "python",
   "nbconvert_exporter": "python",
   "pygments_lexer": "ipython3",
   "version": "3.10.2"
  },
  "orig_nbformat": 4,
  "vscode": {
   "interpreter": {
    "hash": "9e000c0c807c08f87b67fc6d14b7494c203ab463a6abf9db2311fb6e02a8ff8c"
   }
  }
 },
 "nbformat": 4,
 "nbformat_minor": 2
}
